{
 "cells": [
  {
   "cell_type": "raw",
   "id": "369cc06d-1bec-46a4-91e1-0b6435c17bbf",
   "metadata": {},
   "source": [
    "1.\tExplain the key features of Python that make it a popular choice for programming.\n",
    "Answer\n",
    "•\tPython is a programming language that is easy to understand and write, making it a popular choice among developers and programmers. \n",
    "•\tIt is compatible with various programming paradigms, such as procedural, object-oriented, and functional programming. \n",
    "•\tPython has a large and active community of developers, an extensive standard library, and third-party packages for various domains.\n"
   ]
  },
  {
   "cell_type": "code",
   "execution_count": null,
   "id": "a550f103-40f8-40a7-b885-a17ce3880223",
   "metadata": {},
   "outputs": [],
   "source": []
  },
  {
   "cell_type": "raw",
   "id": "cc75107d-618d-43b8-8f17-46c70a090c20",
   "metadata": {},
   "source": [
    "\n",
    "2.\tDescribe the role of predefined keywords in Python and provide examples of how they are used in a program.\n",
    "Answer\n",
    "•\tKeywords are reserved words in Python that have special meanings and cannot be used as identifiers (variable names, function names, etc.)\n",
    "•\tExamples of keywords include if, else, while, for, def, class, import, try, except, return, True, False, None, etc.\n",
    "\n"
   ]
  },
  {
   "cell_type": "code",
   "execution_count": 3,
   "id": "11e6f9dd-6b35-4c2c-a593-6fc6c71aae8f",
   "metadata": {},
   "outputs": [
    {
     "name": "stdout",
     "output_type": "stream",
     "text": [
      "greater\n"
     ]
    }
   ],
   "source": [
    "#some keywords are:-\n",
    "if 5 > 2:\n",
    "    print(\"greater\")"
   ]
  },
  {
   "cell_type": "code",
   "execution_count": 8,
   "id": "cc2c197b-c11d-4793-aea3-566d0277ee55",
   "metadata": {},
   "outputs": [
    {
     "data": {
      "text/plain": [
       "int"
      ]
     },
     "execution_count": 8,
     "metadata": {},
     "output_type": "execute_result"
    }
   ],
   "source": [
    "#Example over type \n",
    "a = 1\n",
    "b = 3.5\n",
    "type(a)"
   ]
  },
  {
   "cell_type": "code",
   "execution_count": 7,
   "id": "494625e4-dc5e-4edd-9607-ff5c12150073",
   "metadata": {},
   "outputs": [
    {
     "data": {
      "text/plain": [
       "float"
      ]
     },
     "execution_count": 7,
     "metadata": {},
     "output_type": "execute_result"
    }
   ],
   "source": [
    "type(b)"
   ]
  },
  {
   "cell_type": "code",
   "execution_count": 13,
   "id": "191d8d6a-75fe-4d23-83a5-0b923126815c",
   "metadata": {},
   "outputs": [
    {
     "name": "stdin",
     "output_type": "stream",
     "text": [
      "please enter your name anand\n",
      "please enter your email @\n",
      "please enter your password e\n"
     ]
    },
    {
     "name": "stdout",
     "output_type": "stream",
     "text": [
      "Registration is successfull\n"
     ]
    }
   ],
   "source": [
    "#example over if, else,\n",
    "name = input(\"please enter your name\")\n",
    "email = input(\"please enter your email\")\n",
    "password = input(\"please enter your password\")\n",
    "\n",
    "if name == \"\":\n",
    "    print(\"please enter a valid name , cannot be empty\")\n",
    "else:\n",
    "    if \"@\" not in email:\n",
    "        print(\"Please enter a valid email\")\n",
    "    else:\n",
    "        if len(password) < 1:\n",
    "            print(\"No password entered, pls provide a valid password\")\n",
    "        else:\n",
    "            print(\"Registration is successfull\")\n"
   ]
  },
  {
   "cell_type": "raw",
   "id": "f199304b-d3ca-49cc-881b-4ec88c2e20aa",
   "metadata": {},
   "source": []
  },
  {
   "cell_type": "raw",
   "id": "9620e707-78a6-4364-8e25-a3b609d0bab5",
   "metadata": {},
   "source": [
    "3. Compare and contrast mutable and immutable objects in Python with examples.\n",
    "•\tIn Python, objects can be either changeable (modifiable) or unchangeable (unchangeable). \n",
    "•\tMutable objects, such as lists and dictionaries, can be modified after creation, while immutable objects, such as tuples and strings, cannot. \n",
    "•\tMutability affects how objects are stored and manipulated in memory, impacting performance, memory usage, and concurrency in Python programs. "
   ]
  },
  {
   "cell_type": "code",
   "execution_count": 14,
   "id": "c2df5f90-4a84-4ef8-ab56-7c644d966f1e",
   "metadata": {},
   "outputs": [
    {
     "name": "stdout",
     "output_type": "stream",
     "text": [
      "[1, 2, 3, 4, 5]\n"
     ]
    }
   ],
   "source": [
    "#example of mutable object\n",
    "##list(mutable)\n",
    "my_list = [1, 2, 3, 4, 5]\n",
    "print(my_list)"
   ]
  },
  {
   "cell_type": "code",
   "execution_count": 16,
   "id": "07383af0-c534-4505-8c99-8d3e5dd6e4fe",
   "metadata": {},
   "outputs": [
    {
     "name": "stdout",
     "output_type": "stream",
     "text": [
      "[11, 2, 3, 4, 5]\n"
     ]
    }
   ],
   "source": [
    "#To modify the first element of my_litst\n",
    "my_list[0] = 11\n",
    "print(my_list)##11 got added"
   ]
  },
  {
   "cell_type": "code",
   "execution_count": 17,
   "id": "e6848d65-64b8-4d5e-9130-5428d6a2a5b4",
   "metadata": {},
   "outputs": [
    {
     "name": "stdout",
     "output_type": "stream",
     "text": [
      "Hello\n"
     ]
    }
   ],
   "source": [
    "#immutable objects, such as tuples and strings, cannot be modiffied\n",
    "##String \n",
    "my_string = \"Hello\"\n",
    "print(my_string)\n"
   ]
  },
  {
   "cell_type": "code",
   "execution_count": 18,
   "id": "da9342f6-139f-43c2-a795-73cc9216c882",
   "metadata": {},
   "outputs": [
    {
     "ename": "NameError",
     "evalue": "name 'h' is not defined",
     "output_type": "error",
     "traceback": [
      "\u001b[1;31m---------------------------------------------------------------------------\u001b[0m",
      "\u001b[1;31mNameError\u001b[0m                                 Traceback (most recent call last)",
      "Cell \u001b[1;32mIn[18], line 2\u001b[0m\n\u001b[0;32m      1\u001b[0m \u001b[38;5;66;03m#Attempting to modify a string..>> it will throw an error\u001b[39;00m\n\u001b[1;32m----> 2\u001b[0m my_string[\u001b[38;5;241m0\u001b[39m] \u001b[38;5;241m=\u001b[39m h\n\u001b[0;32m      3\u001b[0m \u001b[38;5;28mprint\u001b[39m(my_string)\n",
      "\u001b[1;31mNameError\u001b[0m: name 'h' is not defined"
     ]
    }
   ],
   "source": [
    "#Attempting to modify a string..>> it will throw an error\n",
    "my_string[0] = h\n",
    "print(my_string)"
   ]
  },
  {
   "cell_type": "code",
   "execution_count": 19,
   "id": "c78da126-0166-4075-b707-e732489070e7",
   "metadata": {},
   "outputs": [
    {
     "name": "stdout",
     "output_type": "stream",
     "text": [
      "(1, 2, 3, 4)\n"
     ]
    }
   ],
   "source": [
    "#another example of immutable objects ...\n",
    "my_tuple = (1, 2, 3, 4 )\n",
    "print(my_tuple)"
   ]
  },
  {
   "cell_type": "code",
   "execution_count": 20,
   "id": "a3f07ca6-9ce1-4fae-85fa-73aa51820b74",
   "metadata": {},
   "outputs": [
    {
     "ename": "TypeError",
     "evalue": "'tuple' object does not support item assignment",
     "output_type": "error",
     "traceback": [
      "\u001b[1;31m---------------------------------------------------------------------------\u001b[0m",
      "\u001b[1;31mTypeError\u001b[0m                                 Traceback (most recent call last)",
      "Cell \u001b[1;32mIn[20], line 2\u001b[0m\n\u001b[0;32m      1\u001b[0m \u001b[38;5;66;03m#try to modify tupple it will throw error....\u001b[39;00m\n\u001b[1;32m----> 2\u001b[0m my_tuple[\u001b[38;5;241m0\u001b[39m] \u001b[38;5;241m=\u001b[39m \u001b[38;5;241m11\u001b[39m\n",
      "\u001b[1;31mTypeError\u001b[0m: 'tuple' object does not support item assignment"
     ]
    }
   ],
   "source": [
    "#try to modify tupple it will throw error....\n",
    "my_tuple[0] = 11"
   ]
  },
  {
   "cell_type": "code",
   "execution_count": null,
   "id": "dfe708b8-80b9-4083-bb4b-b58fdf152d2e",
   "metadata": {},
   "outputs": [],
   "source": []
  },
  {
   "cell_type": "raw",
   "id": "a1cc355f-343a-4f3b-9211-aa9acacf217a",
   "metadata": {},
   "source": [
    "4. Discuss the different types of operators in Python and provide examples of how they are used.\n",
    "•\tOperators are special symbols or keywords that are used to carry out specific actions on numbers or variables in Python expressions. \n",
    "•\tPython supports various types of operators, including arithmetic operators (+, -, *, /), comparison operators (==, !=, <, >), logical operators (and, or, not), assignment operators (=, +=, -=, *=, /=),Membership operators (in, not in ) etc.\n",
    "•\tOperators have precedence and associativity rules that determine the order of evaluation in expressions."
   ]
  },
  {
   "cell_type": "code",
   "execution_count": 25,
   "id": "2d60bad8-406d-44f8-90c9-f146db166c86",
   "metadata": {},
   "outputs": [
    {
     "name": "stdout",
     "output_type": "stream",
     "text": [
      "12\n",
      "5\n",
      "6\n"
     ]
    }
   ],
   "source": [
    "#Arithmetic operators\n",
    "\n",
    "##addition\n",
    "result = 10 + 2\n",
    "print(result1)\n",
    "\n",
    "#floor division \n",
    "result = 10 // 2 \n",
    "print(result)\n",
    "\n",
    "#multiplication\n",
    "result = 2*3\n",
    "print(result)"
   ]
  },
  {
   "cell_type": "code",
   "execution_count": 29,
   "id": "74c5751c-4fb1-4618-908d-d3a415a699a1",
   "metadata": {},
   "outputs": [
    {
     "name": "stdout",
     "output_type": "stream",
     "text": [
      "True True True\n"
     ]
    }
   ],
   "source": [
    "#comparision operators \n",
    "result1 = 5 > 3\n",
    "\n",
    "result2 = 10 == 10\n",
    "\n",
    "result3 = 10 != 5\n",
    "print(result1, result2, result3)"
   ]
  },
  {
   "cell_type": "code",
   "execution_count": 37,
   "id": "93e9fd85-a0da-47de-9b1e-7edf732d8e11",
   "metadata": {},
   "outputs": [
    {
     "name": "stdout",
     "output_type": "stream",
     "text": [
      "True\n",
      "False\n",
      "True\n"
     ]
    }
   ],
   "source": [
    "#logical operators (and, or, not)\n",
    "result = (5 > 3) and (2 < 4)\n",
    "print(result)\n",
    "\n",
    "\n",
    "\n",
    "result = not (5 > 3)\n",
    "print(result)\n",
    "\n",
    "\n",
    "result= (5 > 3) or (2 > 4)\n",
    "print(result)"
   ]
  },
  {
   "cell_type": "code",
   "execution_count": 38,
   "id": "5da54159-6419-49b1-a7b9-80a653ce0fe9",
   "metadata": {},
   "outputs": [
    {
     "name": "stdout",
     "output_type": "stream",
     "text": [
      "15\n",
      "12\n"
     ]
    }
   ],
   "source": [
    "#assignment operators (=, +=, -=, *=, /=)\n",
    "a = 10 \n",
    "a += 5\n",
    "print(a)\n",
    "\n",
    "#subtract\n",
    "a -= 3 \n",
    "print(a)"
   ]
  },
  {
   "cell_type": "code",
   "execution_count": 48,
   "id": "9ee3ea5c-27e3-4a9b-b3a4-260646979420",
   "metadata": {},
   "outputs": [
    {
     "name": "stdout",
     "output_type": "stream",
     "text": [
      "True\n",
      "True\n"
     ]
    }
   ],
   "source": [
    "#Membership operators (in, not in )\n",
    "result  = 'a' in 'apple' \n",
    "print(result)\n",
    "\n",
    "result1 = 10 not in [1, 2, 3]\n",
    "print(result) \n"
   ]
  },
  {
   "cell_type": "code",
   "execution_count": null,
   "id": "e18302a3-f019-4168-a235-f70e4e04360b",
   "metadata": {},
   "outputs": [],
   "source": []
  },
  {
   "cell_type": "raw",
   "id": "f23d1760-4b88-4cc5-a8aa-2ddb2498d831",
   "metadata": {},
   "source": [
    "5. Explain the concept of type casting in Python with exaples.\n",
    "•\tType casting, also referred to as type conversion, is the process of changing one data type to another in Python. \n",
    "•\tPython provides built-in functions for type casting, such as int(), float(), str(), list(), tuple(), dict(), etc.\n",
    "•\tType casting is often necessary for performing arithmetic operations, data manipulation, and input/output operations in Python programs.\n",
    "\n"
   ]
  },
  {
   "cell_type": "code",
   "execution_count": 49,
   "id": "a70156e0-7204-4ee2-9594-6527c266d5c9",
   "metadata": {},
   "outputs": [
    {
     "name": "stdout",
     "output_type": "stream",
     "text": [
      "8.14\n"
     ]
    }
   ],
   "source": [
    "# Implicit Type Casting (Automatic)\n",
    "x = 5         # Integer\n",
    "y = 3.14      # Float\n",
    "\n",
    "result = x + y  # Python automatically converts 'x' to a float before adding\n",
    "print(result)  # Output: 8.14\n"
   ]
  },
  {
   "cell_type": "code",
   "execution_count": 52,
   "id": "4787d51f-d16e-4977-88c5-25b1a52b357a",
   "metadata": {},
   "outputs": [
    {
     "name": "stdout",
     "output_type": "stream",
     "text": [
      "123\n"
     ]
    }
   ],
   "source": [
    "#From string to integer\n",
    "s = \"123\"\n",
    "num = int(s)\n",
    "print(num) "
   ]
  },
  {
   "cell_type": "code",
   "execution_count": 56,
   "id": "b383418d-809a-4121-887a-05494e4f3b98",
   "metadata": {},
   "outputs": [
    {
     "name": "stdout",
     "output_type": "stream",
     "text": [
      "42.47\n"
     ]
    },
    {
     "data": {
      "text/plain": [
       "float"
      ]
     },
     "execution_count": 56,
     "metadata": {},
     "output_type": "execute_result"
    }
   ],
   "source": [
    "#sting to float \n",
    "s = 42.47\n",
    "num = float(s)\n",
    "print(num)\n",
    "type(num)"
   ]
  },
  {
   "cell_type": "code",
   "execution_count": 57,
   "id": "62c86599-ac65-4e0a-b5cf-6fb935d32b53",
   "metadata": {},
   "outputs": [
    {
     "name": "stdout",
     "output_type": "stream",
     "text": [
      "4\n"
     ]
    }
   ],
   "source": [
    "#float to integer(removing decimal to accurate value)\n",
    "x = 4.45\n",
    "y = int(x)\n",
    "print(y)"
   ]
  },
  {
   "cell_type": "code",
   "execution_count": 60,
   "id": "26b596d3-88a4-4522-b606-78494fdfff2c",
   "metadata": {},
   "outputs": [
    {
     "name": "stdout",
     "output_type": "stream",
     "text": [
      "(1, 2, 3)\n"
     ]
    },
    {
     "data": {
      "text/plain": [
       "tuple"
      ]
     },
     "execution_count": 60,
     "metadata": {},
     "output_type": "execute_result"
    }
   ],
   "source": [
    "#from list to tuple\n",
    "lst = [1, 2, 3]\n",
    "tpl = tuple(lst)\n",
    "print(tpl)\n",
    "type(tpl)\n"
   ]
  },
  {
   "cell_type": "code",
   "execution_count": 62,
   "id": "7ca974c6-a4ba-4475-b362-96e32e40336d",
   "metadata": {},
   "outputs": [
    {
     "name": "stdout",
     "output_type": "stream",
     "text": [
      "[91, 2, 3]\n"
     ]
    },
    {
     "data": {
      "text/plain": [
       "list"
      ]
     },
     "execution_count": 62,
     "metadata": {},
     "output_type": "execute_result"
    }
   ],
   "source": [
    "#from tuple to list\n",
    "tpl = [91, 2, 3]\n",
    "lst = list(tpl)\n",
    "print(lst)\n",
    "type(lst)"
   ]
  },
  {
   "cell_type": "code",
   "execution_count": 63,
   "id": "a27de359-7543-4547-861c-383e3c147a8e",
   "metadata": {},
   "outputs": [
    {
     "name": "stdout",
     "output_type": "stream",
     "text": [
      "['h', 'e', 'l', 'l', 'o']\n"
     ]
    },
    {
     "data": {
      "text/plain": [
       "list"
      ]
     },
     "execution_count": 63,
     "metadata": {},
     "output_type": "execute_result"
    }
   ],
   "source": [
    "#from string to list>>>splitting the string\n",
    "s = \"hello\"\n",
    "lst = list(s)\n",
    "print(lst)\n",
    "type(lst)"
   ]
  },
  {
   "cell_type": "code",
   "execution_count": null,
   "id": "015ee379-252d-48e3-a955-d14ed4725f37",
   "metadata": {},
   "outputs": [],
   "source": []
  },
  {
   "cell_type": "raw",
   "id": "448a239f-e79a-4034-b083-b4566a313e04",
   "metadata": {},
   "source": [
    "6. How do conditional statements work in Python? Illustrate with examples.\n",
    "•\tConditionals in Python are used to execute code based on the evaluation of one or more conditions.\n",
    "•\tPython supports conditional statements such as if, elif (else if), and else to control the flow of execution.\n",
    "•\tConditionals can be nested to handle multiple conditions and control different branches of execution based on the outcome of logical expressions.\n",
    "\n"
   ]
  },
  {
   "cell_type": "code",
   "execution_count": 64,
   "id": "e77f3aa4-f425-49bd-89e9-163dd41cbb90",
   "metadata": {},
   "outputs": [
    {
     "name": "stdin",
     "output_type": "stream",
     "text": [
      "Enter a no 900\n"
     ]
    },
    {
     "name": "stdout",
     "output_type": "stream",
     "text": [
      "THe no is grater than 100\n"
     ]
    }
   ],
   "source": [
    "#conditional statements .....example\n",
    "a = int(input(\"Enter a no\"))\n",
    "if a >= 100:\n",
    "    print(\"The no is grater than 100\")\n",
    "elif 0<=a<100:\n",
    "    print(\"The no is grater than 0 and less than 100\")\n",
    "else:\n",
    "    print(\"THis is a negative no\")"
   ]
  },
  {
   "cell_type": "code",
   "execution_count": 69,
   "id": "d3277da1-b740-4155-b071-6925f7e9d957",
   "metadata": {},
   "outputs": [
    {
     "name": "stdin",
     "output_type": "stream",
     "text": [
      "Enter a no 11\n"
     ]
    },
    {
     "name": "stdout",
     "output_type": "stream",
     "text": [
      "x is between 10 and 14\n"
     ]
    }
   ],
   "source": [
    "#conditional statements .....2nd example\n",
    "x = int(input(\"Enter a no\"))\n",
    "\n",
    "if x < 5:\n",
    "    print(\"x is less than 5\")\n",
    "elif x < 10:\n",
    "    print(\"x is between 5 and 9\")\n",
    "elif x < 15:\n",
    "    print(\"x is between 10 and 14\")\n",
    "else:\n",
    "    print(\"x is 15 or grater\")"
   ]
  },
  {
   "cell_type": "raw",
   "id": "cb463cab-14cf-4136-8150-aad70be59c59",
   "metadata": {},
   "source": [
    "\n",
    "7. Describe the different types of loops in Python and their use cases with examples.\n",
    "•\tIn Python, loops are employed to repeat a sequence of actions or code until a specific condition is fulfilled. \n",
    "•\tPython offers two primary types of loops: for loops and while loops. \n",
    "•\t“for” loops are used for iterating over a sequence of elements, while “while” loops are used for executing code until a specified condition becomes False\n",
    "\n"
   ]
  },
  {
   "cell_type": "code",
   "execution_count": 71,
   "id": "5bca2fc9-acff-4ac4-8401-8ef3c07c1706",
   "metadata": {},
   "outputs": [
    {
     "name": "stdout",
     "output_type": "stream",
     "text": [
      "1\n",
      "2\n",
      "3\n",
      "4\n",
      "5\n",
      "6\n",
      "7\n",
      "8\n"
     ]
    }
   ],
   "source": [
    "#examplex of loop\n",
    "n = 9\n",
    "i = 1 \n",
    "while i < n:\n",
    "    print(i)\n",
    "    i = i + 1"
   ]
  },
  {
   "cell_type": "code",
   "execution_count": 72,
   "id": "a35919d8-91ac-425d-8fe7-bf0290a717b9",
   "metadata": {},
   "outputs": [
    {
     "name": "stdout",
     "output_type": "stream",
     "text": [
      "6\n",
      "5\n",
      "4\n",
      "3\n",
      "2\n",
      "1\n"
     ]
    }
   ],
   "source": [
    "count = 6 \n",
    "while count > 0:\n",
    "    print(count)\n",
    "    count = count - 1"
   ]
  },
  {
   "cell_type": "code",
   "execution_count": 73,
   "id": "d04a2d2f-e44c-4459-ae8a-9091f25676df",
   "metadata": {},
   "outputs": [
    {
     "name": "stdout",
     "output_type": "stream",
     "text": [
      "0\n",
      "1\n",
      "2\n",
      "3\n",
      "4\n"
     ]
    }
   ],
   "source": [
    "#using range \n",
    "for i in range(5):\n",
    "    print(i)"
   ]
  },
  {
   "cell_type": "code",
   "execution_count": 74,
   "id": "d3a61827-2f99-4ba0-acb7-0412a9662f23",
   "metadata": {},
   "outputs": [
    {
     "name": "stdout",
     "output_type": "stream",
     "text": [
      "0\n",
      "1\n",
      "2\n",
      "3\n",
      "4\n",
      "Breaking the loop at i = 5\n"
     ]
    }
   ],
   "source": [
    "for i in range(10):\n",
    "    if i == 5:\n",
    "        print(\"Breaking the loop at i =\", i)\n",
    "        break\n",
    "    print(i)"
   ]
  },
  {
   "cell_type": "code",
   "execution_count": 5,
   "id": "2678a8ff-8f31-44af-8abf-208722b3caa6",
   "metadata": {},
   "outputs": [
    {
     "name": "stdout",
     "output_type": "stream",
     "text": [
      "*\n",
      "**\n",
      "***\n",
      "****\n",
      "*****\n",
      "******\n",
      "*******\n",
      "********\n"
     ]
    }
   ],
   "source": [
    "##print a right triangle with * using while loop \n",
    "row = 1 \n",
    "while row <= 8:\n",
    "    col = 1\n",
    "    while col <= row:\n",
    "        print(\"*\", end = \"\")\n",
    "        col = col+1\n",
    "    print()\n",
    "    row = row+1"
   ]
  },
  {
   "cell_type": "code",
   "execution_count": 2,
   "id": "396db127-bd0a-4919-8645-bb784d0397cf",
   "metadata": {},
   "outputs": [
    {
     "name": "stdout",
     "output_type": "stream",
     "text": [
      "1 * 1 = 1\n",
      "1 * 2 = 2\n",
      "1 * 3 = 3\n",
      "1 * 4 = 4\n",
      "1 * 5 = 5\n",
      "1 * 6 = 6\n",
      "1 * 7 = 7\n",
      "1 * 8 = 8\n",
      "1 * 9 = 9\n",
      "1 * 10 = 10\n",
      "\n",
      "2 * 1 = 2\n",
      "2 * 2 = 4\n",
      "2 * 3 = 6\n",
      "2 * 4 = 8\n",
      "2 * 5 = 10\n",
      "2 * 6 = 12\n",
      "2 * 7 = 14\n",
      "2 * 8 = 16\n",
      "2 * 9 = 18\n",
      "2 * 10 = 20\n",
      "\n",
      "3 * 1 = 3\n",
      "3 * 2 = 6\n",
      "3 * 3 = 9\n",
      "3 * 4 = 12\n",
      "3 * 5 = 15\n",
      "3 * 6 = 18\n",
      "3 * 7 = 21\n",
      "3 * 8 = 24\n",
      "3 * 9 = 27\n",
      "3 * 10 = 30\n",
      "\n",
      "4 * 1 = 4\n",
      "4 * 2 = 8\n",
      "4 * 3 = 12\n",
      "4 * 4 = 16\n",
      "4 * 5 = 20\n",
      "4 * 6 = 24\n",
      "4 * 7 = 28\n",
      "4 * 8 = 32\n",
      "4 * 9 = 36\n",
      "4 * 10 = 40\n",
      "\n",
      "5 * 1 = 5\n",
      "5 * 2 = 10\n",
      "5 * 3 = 15\n",
      "5 * 4 = 20\n",
      "5 * 5 = 25\n",
      "5 * 6 = 30\n",
      "5 * 7 = 35\n",
      "5 * 8 = 40\n",
      "5 * 9 = 45\n",
      "5 * 10 = 50\n",
      "\n"
     ]
    }
   ],
   "source": [
    "#multiplication table \n",
    "for i in range(1, 6):\n",
    "    for j in range(1, 11):\n",
    "        product = i * j\n",
    "        print (f\"{i} * {j} = {product}\")\n",
    "    print()"
   ]
  },
  {
   "cell_type": "code",
   "execution_count": 4,
   "id": "0e4e2b9d-b66c-4ed4-a1a2-b67daca00de8",
   "metadata": {},
   "outputs": [
    {
     "name": "stdout",
     "output_type": "stream",
     "text": [
      "End Of 1st Python  Assingment \n"
     ]
    }
   ],
   "source": [
    "print(\"End Of 1st Python  Assingment \")"
   ]
  },
  {
   "cell_type": "code",
   "execution_count": null,
   "id": "585c9011-b99b-465c-98b6-71a582e7fc2e",
   "metadata": {},
   "outputs": [],
   "source": []
  }
 ],
 "metadata": {
  "kernelspec": {
   "display_name": "Python 3 (ipykernel)",
   "language": "python",
   "name": "python3"
  },
  "language_info": {
   "codemirror_mode": {
    "name": "ipython",
    "version": 3
   },
   "file_extension": ".py",
   "mimetype": "text/x-python",
   "name": "python",
   "nbconvert_exporter": "python",
   "pygments_lexer": "ipython3",
   "version": "3.12.4"
  }
 },
 "nbformat": 4,
 "nbformat_minor": 5
}
